{
 "cells": [
  {
   "cell_type": "code",
   "execution_count": 6,
   "metadata": {
    "collapsed": true
   },
   "outputs": [],
   "source": [
    "import matplotlib.pyplot as plt\n",
    "import csv\n",
    "import numpy\n",
    "\n",
    "import tensorflow as tf\n",
    "#sess = tf.Session(config=tf.ConfigProto(log_device_placement=True))\n",
    "#from keras import backend as K\n",
    "#K.set_session(sess)\n",
    "\n",
    "from keras.preprocessing.image import  array_to_img, img_to_array, ImageDataGenerator\n",
    "\n",
    "from keras.datasets import cifar10\n",
    "from keras.models import Sequential, model_from_json\n",
    "from keras.layers import Dense, Flatten, Activation\n",
    "from keras.layers import Dropout\n",
    "from keras.layers.convolutional import Conv2D, MaxPooling2D\n",
    "from keras.utils import np_utils\n",
    "from keras.optimizers import SGD\n",
    "\n",
    "from PIL import Image"
   ]
  },
  {
   "cell_type": "code",
   "execution_count": 7,
   "metadata": {
    "collapsed": true
   },
   "outputs": [],
   "source": [
    "# Размер мини-выборки\n",
    "batch_size = 32\n",
    "# Количество классов изображений\n",
    "nb_classes = 43\n",
    "# Количество эпох для обучения\n",
    "nb_epoch = 5\n",
    "# Размер изображений\n",
    "img_rows, img_cols = 48, 48\n",
    "# Количество каналов в изображении: RGB\n",
    "img_channels = 3"
   ]
  },
  {
   "cell_type": "code",
   "execution_count": 4,
   "metadata": {
    "collapsed": true
   },
   "outputs": [],
   "source": [
    "def load_img(path):\n",
    "    with Image.open(path) as img:\n",
    "        img = img.resize((img_rows, img_cols))\n",
    "        imgarray = numpy.asarray(img)\n",
    "        #mask = numpy.array([[1,1,1]])\n",
    "        #imgarray = imgarray * mask\n",
    "        #print(imgarray.shape)\n",
    "        #imgarray = imgarray.reshape((img_rows, img_cols, img_channels))\n",
    "        #print(imgarray)\n",
    "        return imgarray\n",
    "\n",
    "        \n",
    "def readTrafficSigns(rootpath):\n",
    "    '''Reads traffic sign data for German Traffic Sign Recognition Benchmark.\n",
    "\n",
    "    Arguments: path to the traffic sign data, for example './GTSRB/Training'\n",
    "    Returns:   list of images, list of corresponding labels'''\n",
    "    images = [] # images\n",
    "    labels = [] # corresponding labels\n",
    "    # loop over all 42 classes\n",
    "    for c in range(0,43):\n",
    "        prefix = rootpath + '/' + format(c, '05d') + '/' # subdirectory for class\n",
    "        gtFile = open(prefix + 'GT-' + format(c, '05d') + '.csv') # annotations file\n",
    "        gtReader = csv.reader(gtFile, delimiter=';') # csv parser for annotations file\n",
    "        gtReader.__next__() # skip header\n",
    "        # loop over all images in current annotations file\n",
    "        for row in gtReader:\n",
    "            imgarray = load_img(prefix + row[0])\n",
    "            images.append(imgarray) # the 1th column is the filename             \n",
    "#             images.append(plt.imread(prefix + row[0]))\n",
    "            labels.append(row[7]) # the 8th column is the label\n",
    "        gtFile.close()\n",
    "    return images, labels"
   ]
  },
  {
   "cell_type": "code",
   "execution_count": 25,
   "metadata": {
    "collapsed": true
   },
   "outputs": [],
   "source": [
    "trainImages, trainLabels = readTrafficSigns('C:/Users/tonym/YandexDisk/python/CRT_testing_work/GTSRB/Training')"
   ]
  },
  {
   "cell_type": "markdown",
   "metadata": {},
   "source": [
    "# вариант с генератором "
   ]
  },
  {
   "cell_type": "code",
   "execution_count": 25,
   "metadata": {},
   "outputs": [
    {
     "name": "stdout",
     "output_type": "stream",
     "text": [
      "26640 26640\n"
     ]
    }
   ],
   "source": [
    "X_train = numpy.asarray(trainImages)/255\n",
    "Y_train = np_utils.to_categorical(trainLabels, nb_classes)\n",
    "print(len(trainLabels), len(trainImages))\n",
    "\n",
    "datagen = ImageDataGenerator(\n",
    "    featurewise_center=True,\n",
    "    featurewise_std_normalization=True,\n",
    "    rotation_range=20,\n",
    "    width_shift_range=0.2,\n",
    "    height_shift_range=0.2,\n",
    "    horizontal_flip=False)\n",
    "\n",
    "# compute quantities required for featurewise normalization\n",
    "# (std, mean, and principal components if ZCA whitening is applied)\n",
    "datagen.fit(X_train)"
   ]
  },
  {
   "cell_type": "markdown",
   "metadata": {
    "collapsed": true,
    "scrolled": true
   },
   "source": [
    "# Модель"
   ]
  },
  {
   "cell_type": "code",
   "execution_count": 5,
   "metadata": {
    "collapsed": true
   },
   "outputs": [],
   "source": [
    "# Создаем последовательную модель\n",
    "model = Sequential()\n",
    "# Первый сверточный слой\n",
    "model.add(Conv2D(100, (7, 7), padding='same', input_shape=(img_rows, img_cols, img_channels), activation='relu'))\n",
    "\n",
    "# Первый слой подвыборки\n",
    "model.add(MaxPooling2D(pool_size=(2, 2)))\n",
    "\n",
    "# Второй сверточный слой\n",
    "model.add(Conv2D(150, (4, 4), activation='relu', padding='same'))\n",
    "\n",
    "# второй слой подвыборки\n",
    "model.add(MaxPooling2D(pool_size=(2, 2)))\n",
    "\n",
    "# # Слой регуляризации Dropout\n",
    "# model.add(Dropout(0.25))\n",
    "\n",
    "# Третий сверточный слой\n",
    "model.add(Conv2D(250, (4, 4), padding='same', activation='relu'))\n",
    "\n",
    "# второй слой подвыборки\n",
    "model.add(MaxPooling2D(pool_size=(2, 2)))\n",
    "\n",
    "\n",
    "# # Четвертый сверточный слой\n",
    "# model.add(Conv2D(64, (3, 3), activation='relu'))\n",
    "# # Второй слой подвыборки\n",
    "# model.add(MaxPooling2D(pool_size=(2, 2)))\n",
    "# # Слой регуляризации Dropout\n",
    "# model.add(Dropout(0.25))\n",
    "# # Слой преобразования данных из 2D представления в плоское\n",
    "model.add(Flatten())\n",
    "# Полносвязный слой для классификации\n",
    "model.add(Dense(300, activation='relu'))\n",
    "\n",
    "#model.add(Dense(1024, activation='softmax'))\n",
    "\n",
    "# Выходной полносвязный слой\n",
    "model.add(Dense(nb_classes, activation='softmax'))\n",
    "\n",
    "\n",
    "sgd = SGD(lr=0.01, decay=1e-6, momentum=0.9, nesterov=True)\n",
    "model.compile(loss='categorical_crossentropy',\n",
    "              optimizer=sgd,\n",
    "              metrics=['accuracy'])"
   ]
  },
  {
   "cell_type": "markdown",
   "metadata": {},
   "source": [
    "# обучение без генератора"
   ]
  },
  {
   "cell_type": "code",
   "execution_count": null,
   "metadata": {
    "collapsed": true
   },
   "outputs": [],
   "source": [
    "model.fit(X_train, Y_train,\n",
    "              batch_size=batch_size,\n",
    "              epochs=nb_epoch,\n",
    "              validation_split=0.1,\n",
    "              shuffle=True,\n",
    "              verbose=2)"
   ]
  },
  {
   "cell_type": "markdown",
   "metadata": {},
   "source": [
    "# С генератором"
   ]
  },
  {
   "cell_type": "code",
   "execution_count": 15,
   "metadata": {
    "scrolled": false
   },
   "outputs": [
    {
     "name": "stdout",
     "output_type": "stream",
     "text": [
      "Epoch 1/2\n",
      "7s - loss: 0.0762 - acc: 0.9759\n",
      "Epoch 2/2\n",
      "7s - loss: 0.1075 - acc: 0.9684\n"
     ]
    },
    {
     "data": {
      "text/plain": [
       "<keras.callbacks.History at 0x1b01af108d0>"
      ]
     },
     "execution_count": 15,
     "metadata": {},
     "output_type": "execute_result"
    }
   ],
   "source": [
    "model.fit_generator(datagen.flow(X_train, Y_train, batch_size=batch_size),\n",
    "              epochs=2,steps_per_epoch = 100,\n",
    "              verbose=2)"
   ]
  },
  {
   "cell_type": "markdown",
   "metadata": {},
   "source": [
    "# сохранение "
   ]
  },
  {
   "cell_type": "code",
   "execution_count": 21,
   "metadata": {
    "collapsed": true
   },
   "outputs": [],
   "source": [
    "model_json = model.to_json()\n",
    "json_file = open(\"C:/Users/tonym/YandexDisk/python/CRT_testing_work/all_model.json\", \"w\")\n",
    "json_file.write(model_json)\n",
    "json_file.close()\n",
    "model.save_weights(\"C:/Users/tonym/YandexDisk/python/CRT_testing_work/all_model.h5\")"
   ]
  },
  {
   "cell_type": "code",
   "execution_count": 21,
   "metadata": {
    "collapsed": true
   },
   "outputs": [],
   "source": [
    "json_file = open(\"C:/Users/tonym/YandexDisk/python/CRT_testing_work/all_model.json\", \"r\")\n",
    "loaded_model_json = json_file.read()\n",
    "json_file.close()\n",
    "# Создаем модель\n",
    "model = model_from_json(loaded_model_json)\n",
    "# Загружаем сохраненные веса в модель\n",
    "model.load_weights(\"C:/Users/tonym/YandexDisk/python/CRT_testing_work/all_model.h5\")\n",
    "sgd = SGD(lr=0.01, decay=1e-6, momentum=0.9, nesterov=True)\n",
    "model.compile(loss='categorical_crossentropy',\n",
    "              optimizer=sgd,\n",
    "              metrics=['accuracy'])"
   ]
  },
  {
   "cell_type": "markdown",
   "metadata": {},
   "source": [
    "# старое тестирование"
   ]
  },
  {
   "cell_type": "code",
   "execution_count": 12,
   "metadata": {
    "scrolled": true
   },
   "outputs": [
    {
     "data": {
      "image/png": "[encoded data removed]",
      "text/plain": [
       "<matplotlib.figure.Figure at 0x1dad8f55320>"
      ]
     },
     "metadata": {},
     "output_type": "display_data"
    }
   ],
   "source": [
    "img = load_img(\"C:\\\\Users\\\\tonym\\\\YandexDisk\\\\python\\\\CRT_testing_work\\\\TrainIJCNN2013\\\\03\\\\00007.ppm\")\n",
    "plt.imshow(img)\n",
    "plt.show()\n",
    "X = numpy.array([img/256])\n",
    "pre = model.predict(X)\n",
    "#print(pre)"
   ]
  },
  {
   "cell_type": "code",
   "execution_count": 13,
   "metadata": {},
   "outputs": [
    {
     "data": {
      "image/png": "[encoded data removed]",
      "text/plain": [
       "<matplotlib.figure.Figure at 0x1dad90eaf28>"
      ]
     },
     "metadata": {},
     "output_type": "display_data"
    }
   ],
   "source": [
    "#загружаем в классификатор мусор \n",
    "img = load_img(\"C:\\\\Users\\\\tonym\\\\YandexDisk\\\\python\\\\CRT_testing_work\\\\TrainIJCNN2013\\\\bad.ppm\")\n",
    "plt.imshow(img)\n",
    "plt.show()\n",
    "X = numpy.array([img/256])\n",
    "pre = model.predict(X)\n",
    "#print(pre)"
   ]
  },
  {
   "cell_type": "code",
   "execution_count": null,
   "metadata": {
    "collapsed": true
   },
   "outputs": [],
   "source": [
    "fimages = [] # images\n",
    "fimages.append(img_to_array(img)) # the 1th column is the filename     \n",
    "X = preprocess_dataset(numpy.asarray(fimages))\n",
    "show_oneYpic(X[0])\n",
    "pre = model.predict(X)\n",
    "print(numpy.argmax(pre))\n",
    "# pre = np_utils.categorical_probas_to_classes(pre)\n",
    "# print(pre[0])"
   ]
  },
  {
   "cell_type": "code",
   "execution_count": null,
   "metadata": {
    "collapsed": true
   },
   "outputs": [],
   "source": [
    "scores = model.evaluate(X_train, Y_train, verbose=0)\n",
    "print(scores)"
   ]
  },
  {
   "cell_type": "code",
   "execution_count": null,
   "metadata": {
    "collapsed": true
   },
   "outputs": [],
   "source": [
    "print(\"Точность работы сети на обучающей выборке: %.2f%%\" % (scores[1]*100))"
   ]
  },
  {
   "cell_type": "markdown",
   "metadata": {},
   "source": [
    "# тест"
   ]
  },
  {
   "cell_type": "code",
   "execution_count": 9,
   "metadata": {},
   "outputs": [
    {
     "ename": "IndentationError",
     "evalue": "expected an indented block (<ipython-input-9-368da3563301>, line 12)",
     "output_type": "error",
     "traceback": [
      "\u001b[1;36m  File \u001b[1;32m\"<ipython-input-9-368da3563301>\"\u001b[1;36m, line \u001b[1;32m12\u001b[0m\n\u001b[1;33m    X_test.append(imgarray) # the 1th column is the filename\u001b[0m\n\u001b[1;37m         ^\u001b[0m\n\u001b[1;31mIndentationError\u001b[0m\u001b[1;31m:\u001b[0m expected an indented block\n"
     ]
    }
   ],
   "source": [
    "X_test = [] # images\n",
    "Y_test = [] # corresponding labels\n",
    "for i in range(43):\n",
    "    prefix = 'C:/Users/tonym/YandexDisk/python/CRT_testing_work/TrainIJCNN2013/' + format(i, '02d') + '/' # subdirectory for class\n",
    "    j = 0\n",
    "    while True:\n",
    "        try:  \n",
    "            imgarray = load_img(prefix + format(j,\"05d\") +'.ppm')\n",
    "            if j==0:\n",
    "                #plt.imshow(imgarray)\n",
    "                #plt.show()\n",
    "            X_test.append(imgarray) # the 1th column is the filename\n",
    "            Y_test.append(i)\n",
    "        except IOError as e:\n",
    "            break\n",
    "        j+=1\n",
    "\n",
    "# print(X_test)\n",
    "X_test = numpy.asarray(X_test)\n",
    "X_test = X_test.astype('float32')\n",
    "X_test /= 255"
   ]
  },
  {
   "cell_type": "code",
   "execution_count": 22,
   "metadata": {},
   "outputs": [
    {
     "ename": "NameError",
     "evalue": "name 'Y_test' is not defined",
     "output_type": "error",
     "traceback": [
      "\u001b[1;31m---------------------------------------------------------------------------\u001b[0m",
      "\u001b[1;31mNameError\u001b[0m                                 Traceback (most recent call last)",
      "\u001b[1;32m<ipython-input-22-bf02749c644c>\u001b[0m in \u001b[0;36m<module>\u001b[1;34m()\u001b[0m\n\u001b[1;32m----> 1\u001b[1;33m \u001b[0mY_t\u001b[0m \u001b[1;33m=\u001b[0m \u001b[0mnp_utils\u001b[0m\u001b[1;33m.\u001b[0m\u001b[0mto_categorical\u001b[0m\u001b[1;33m(\u001b[0m\u001b[0mY_test\u001b[0m\u001b[1;33m,\u001b[0m \u001b[0mnb_classes\u001b[0m\u001b[1;33m)\u001b[0m\u001b[1;33m\u001b[0m\u001b[0m\n\u001b[0m\u001b[0;32m      2\u001b[0m \u001b[0mscores\u001b[0m \u001b[1;33m=\u001b[0m \u001b[0mmodel\u001b[0m\u001b[1;33m.\u001b[0m\u001b[0mevaluate\u001b[0m\u001b[1;33m(\u001b[0m\u001b[0mX_test\u001b[0m\u001b[1;33m,\u001b[0m \u001b[0mY_t\u001b[0m\u001b[1;33m,\u001b[0m \u001b[0mverbose\u001b[0m\u001b[1;33m=\u001b[0m\u001b[1;36m0\u001b[0m\u001b[1;33m)\u001b[0m\u001b[1;33m\u001b[0m\u001b[0m\n\u001b[0;32m      3\u001b[0m \u001b[0mprint\u001b[0m\u001b[1;33m(\u001b[0m\u001b[1;34m\"Точность работы загруженной сети на тестовых данных: %.2f%%\"\u001b[0m \u001b[1;33m%\u001b[0m \u001b[1;33m(\u001b[0m\u001b[0mscores\u001b[0m\u001b[1;33m[\u001b[0m\u001b[1;36m1\u001b[0m\u001b[1;33m]\u001b[0m\u001b[1;33m*\u001b[0m\u001b[1;36m100\u001b[0m\u001b[1;33m)\u001b[0m\u001b[1;33m)\u001b[0m\u001b[1;33m\u001b[0m\u001b[0m\n\u001b[0;32m      4\u001b[0m \u001b[0mscores\u001b[0m \u001b[1;33m=\u001b[0m \u001b[0mmodel\u001b[0m\u001b[1;33m.\u001b[0m\u001b[0mevaluate\u001b[0m\u001b[1;33m(\u001b[0m\u001b[0mX_train\u001b[0m\u001b[1;33m,\u001b[0m \u001b[0mY_train\u001b[0m\u001b[1;33m,\u001b[0m \u001b[0mverbose\u001b[0m\u001b[1;33m=\u001b[0m\u001b[1;36m0\u001b[0m\u001b[1;33m)\u001b[0m\u001b[1;33m\u001b[0m\u001b[0m\n\u001b[0;32m      5\u001b[0m \u001b[0mprint\u001b[0m\u001b[1;33m(\u001b[0m\u001b[1;34m\"Точность работы загруженной сети на обучающей выборке: %.2f%%\"\u001b[0m \u001b[1;33m%\u001b[0m \u001b[1;33m(\u001b[0m\u001b[0mscores\u001b[0m\u001b[1;33m[\u001b[0m\u001b[1;36m1\u001b[0m\u001b[1;33m]\u001b[0m\u001b[1;33m*\u001b[0m\u001b[1;36m100\u001b[0m\u001b[1;33m)\u001b[0m\u001b[1;33m)\u001b[0m\u001b[1;33m\u001b[0m\u001b[0m\n",
      "\u001b[1;31mNameError\u001b[0m: name 'Y_test' is not defined"
     ]
    }
   ],
   "source": [
    "Y_t = np_utils.to_categorical(Y_test, nb_classes)\n",
    "scores = model.evaluate(X_test, Y_t, verbose=0)\n",
    "print(\"Точность работы загруженной сети на тестовых данных: %.2f%%\" % (scores[1]*100))\n",
    "scores = model.evaluate(X_train, Y_train, verbose=0)\n",
    "print(\"Точность работы загруженной сети на обучающей выборке: %.2f%%\" % (scores[1]*100))"
   ]
  },
  {
   "cell_type": "code",
   "execution_count": 19,
   "metadata": {},
   "outputs": [
    {
     "name": "stdout",
     "output_type": "stream",
     "text": [
      "Train on 767 samples, validate on 86 samples\n",
      "Epoch 1/5\n",
      "2s - loss: 0.4197 - acc: 0.8879 - val_loss: 0.4537 - val_acc: 0.8372\n",
      "Epoch 2/5\n",
      "1s - loss: 0.0704 - acc: 0.9909 - val_loss: 0.5516 - val_acc: 0.7791\n",
      "Epoch 3/5\n",
      "1s - loss: 0.0259 - acc: 0.9961 - val_loss: 0.6539 - val_acc: 0.7791\n",
      "Epoch 4/5\n",
      "1s - loss: 0.0125 - acc: 0.9987 - val_loss: 0.6341 - val_acc: 0.8023\n",
      "Epoch 5/5\n",
      "1s - loss: 0.0057 - acc: 1.0000 - val_loss: 0.6339 - val_acc: 0.7907\n"
     ]
    },
    {
     "data": {
      "text/plain": [
       "<keras.callbacks.History at 0x1b023c6f0b8>"
      ]
     },
     "execution_count": 19,
     "metadata": {},
     "output_type": "execute_result"
    }
   ],
   "source": [
    "model.fit(X_test, Y_t,\n",
    "              batch_size=batch_size,\n",
    "              epochs=nb_epoch,\n",
    "              validation_split=0.1,\n",
    "              shuffle=True,\n",
    "              verbose=2)"
   ]
  },
  {
   "cell_type": "code",
   "execution_count": 14,
   "metadata": {},
   "outputs": [
    {
     "name": "stdout",
     "output_type": "stream",
     "text": [
      "1050 570 - max 9.802935e-01\n",
      "1045 570 - class 34\n"
     ]
    },
    {
     "data": {
      "image/png": "[encoded data removed]",
      "text/plain": [
       "<matplotlib.figure.Figure at 0x1dad96c5e10>"
      ]
     },
     "metadata": {},
     "output_type": "display_data"
    }
   ],
   "source": [
    "img_w, img_h = 1360, 800 \n",
    "step = 5\n",
    "with Image.open(\"C:/Users/tonym/YandexDisk/python/CRT_testing_work/TestIJCNN2013/TestIJCNN2013Download/00060.ppm\") as img:\n",
    "    img = img.resize((img_w, img_h))\n",
    "    imgarray = numpy.asarray(img)\n",
    "\n",
    "x_, y_ = step, step\n",
    "maxclass = 0.\n",
    "for x in range(step, img_w - img_rows - 1, step):\n",
    "    for y in range(step, img_h - img_cols - 1, step):\n",
    "        cadr = imgarray[y:(y + img_cols), x:(x + img_rows), :]\n",
    "        pre = model.predict(numpy.array([cadr]))\n",
    "        m = numpy.argmax(pre[0])\n",
    "        #print(pre[0])\n",
    "        #print(\"%e --- %e\" % (pre[0, m], maxclass))\n",
    "        if (pre[0, m] > maxclass) and (pre[0, m]<0.99):\n",
    "            #print(pre[0])\n",
    "            #print(\"%e --- %e\" % (pre[0, m], maxclass))\n",
    "            if numpy.min(pre[0]) > 0:\n",
    "                x_ = x\n",
    "                y_ = y\n",
    "                maxclass = pre[0, m]\n",
    "\n",
    "print(\"%d %d - max %e\" % (x_, y_, maxclass))\n",
    "cl = 0\n",
    "for x in range(x_ - step, x_ + step):\n",
    "    for y in range(y_ - step, y_ + step):\n",
    "        cadr = imgarray[y:(y + img_cols), x:(x + img_rows), :]\n",
    "        pre = model.predict(numpy.array([cadr]))\n",
    "        m = numpy.argmax(pre[0])\n",
    "        if pre[0, m] > maxclass:\n",
    "            x_ = x\n",
    "            y_ = y\n",
    "            maxclass = pre[0, m]\n",
    "            cl = m\n",
    "\n",
    "print(\"%d %d - class %d\" % (x_, y_, cl))\n",
    "\n",
    "plt.imshow(imgarray[y_:(y_ + img_cols), x_:(x_ + img_rows), :])\n",
    "plt.show()"
   ]
  },
  {
   "cell_type": "code",
   "execution_count": 23,
   "metadata": {
    "collapsed": true
   },
   "outputs": [
    {
     "name": "stdout",
     "output_type": "stream",
     "text": [
      "12630 12630\n",
      "Точность работы загруженной сети на тестовых данных: 91.78%\n"
     ]
    }
   ],
   "source": [
    "def readTrafficSigns_test(rootpath):\n",
    "    '''Reads traffic sign data for German Traffic Sign Recognition Benchmark.\n",
    "\n",
    "    Arguments: path to the traffic sign data, for example './GTSRB/Training'\n",
    "    Returns:   list of images, list of corresponding labels'''\n",
    "    images = [] # images\n",
    "    labels = [] # corresponding labels\n",
    "    prefix = rootpath\n",
    "    gtFile = open(prefix + 'GT-final_test.csv') # annotations file\n",
    "    gtReader = csv.reader(gtFile, delimiter=';') # csv parser for annotations file\n",
    "    gtReader.__next__() # skip header\n",
    "    # loop over all images in current annotations file\n",
    "    for row in gtReader:\n",
    "        imgarray = load_img(prefix + row[0])\n",
    "        images.append(imgarray) # the 1th column is the filename             \n",
    "#         images.append(plt.imread(prefix + row[0]))\n",
    "        labels.append(row[7]) # the 8th column is the label\n",
    "    gtFile.close()\n",
    "    return images, labels\n",
    "\n",
    "tImages, tLabels = readTrafficSigns_test('C:/Users/tonym/YandexDisk/python/CRT_testing_work/GTSRB_Final_Test_Images/GTSRB/Final_Test/Images/')\n",
    "X_t = numpy.asarray(tImages)/255\n",
    "Y_t = np_utils.to_categorical(tLabels, nb_classes)\n",
    "print(len(tLabels), len(tImages))\n",
    "scores = model.evaluate(X_t, Y_t, verbose=0)\n",
    "print(\"Точность работы загруженной сети на тестовых данных: %.2f%%\" % (scores[1]*100))"
   ]
  },
  {
   "cell_type": "code",
   "execution_count": null,
   "metadata": {
    "collapsed": true
   },
   "outputs": [],
   "source": []
  }
 ],
 "metadata": {
  "kernelspec": {
   "display_name": "Python 3",
   "language": "python",
   "name": "python3"
  },
  "language_info": {
   "codemirror_mode": {
    "name": "ipython",
    "version": 3
   },
   "file_extension": ".py",
   "mimetype": "text/x-python",
   "name": "python",
   "nbconvert_exporter": "python",
   "pygments_lexer": "ipython3",
   "version": "3.6.2"
  }
 },
 "nbformat": 4,
 "nbformat_minor": 1
}
